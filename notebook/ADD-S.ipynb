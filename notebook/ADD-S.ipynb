{
 "cells": [
  {
   "cell_type": "code",
   "execution_count": 2,
   "id": "institutional-spirit",
   "metadata": {},
   "outputs": [],
   "source": [
    "import os\n",
    "import sys\n",
    "import matplotlib.pyplot as plt\n",
    "import numpy as np\n",
    "base_path = os.path.abspath('..')\n",
    "sys.path.append(base_path)\n",
    "from misc import (str2dict, cal_score, printAD)"
   ]
  },
  {
   "cell_type": "markdown",
   "id": "local-dollar",
   "metadata": {},
   "source": [
    "# LMO ADD-S"
   ]
  },
  {
   "cell_type": "code",
   "execution_count": null,
   "id": "secret-dubai",
   "metadata": {},
   "outputs": [],
   "source": [
    "# Mask-RCNN evaluation\n",
    "# obj_id: 01, obj_AR: 0.87179, obj_AP: 0.84020, All_GT:1170, All_PD:1214, True_PD:1020, obj_name: Ape\n",
    "# obj_id: 05, obj_AR: 0.91964, obj_AP: 0.91433, All_GT:1207, All_PD:1214, True_PD:1110, obj_name: Can\n",
    "# obj_id: 06, obj_AR: 0.84330, obj_AP: 0.82455, All_GT:1187, All_PD:1214, True_PD:1001, obj_name: Cat\n",
    "# obj_id: 08, obj_AR: 0.89703, obj_AP: 0.89703, All_GT:1214, All_PD:1214, True_PD:1089, obj_name: Driller\n",
    "# obj_id: 09, obj_AR: 0.94576, obj_AP: 0.89118, All_GT:1143, All_PD:1213, True_PD:1081, obj_name: Duck\n",
    "# obj_id: 10, obj_AR: 0.66213, obj_AP: 0.64086, All_GT:1175, All_PD:1214, True_PD:778, obj_name: Eggbox\n",
    "# obj_id: 11, obj_AR: 0.58915, obj_AP: 0.43822, All_GT:903, All_PD:1214, True_PD:532, obj_name: Glue\n",
    "# obj_id: 12, obj_AR: 0.94959, obj_AP: 0.94646, All_GT:1210, All_PD:1214, True_PD:1149, obj_name: Holepunch\n",
    "# IOU_T:0.50000, mean_recall:0.83480,  mean_precision: 0.79910\n",
    "\n",
    "\n",
    "# scene:2, image: 1, rcnn:0.087, image_cost:2.554, raw_t:0.125, icp1_t:0.158, icpk_t:0.308\n",
    "# scene:2, image: 101, rcnn:0.066, image_cost:2.234, raw_t:0.091, icp1_t:0.123, icpk_t:0.271\n",
    "# scene:2, image: 201, rcnn:0.066, image_cost:2.231, raw_t:0.090, icp1_t:0.123, icpk_t:0.271\n",
    "# scene:2, image: 301, rcnn:0.066, image_cost:2.248, raw_t:0.090, icp1_t:0.123, icpk_t:0.273\n",
    "# scene:2, image: 401, rcnn:0.065, image_cost:2.273, raw_t:0.091, icp1_t:0.125, icpk_t:0.276\n",
    "# scene:2, image: 501, rcnn:0.065, image_cost:2.261, raw_t:0.091, icp1_t:0.125, icpk_t:0.275\n",
    "# scene:2, image: 601, rcnn:0.065, image_cost:2.258, raw_t:0.091, icp1_t:0.124, icpk_t:0.274\n",
    "# scene:2, image: 701, rcnn:0.065, image_cost:2.270, raw_t:0.092, icp1_t:0.125, icpk_t:0.276\n",
    "# scene:2, image: 801, rcnn:0.065, image_cost:2.265, raw_t:0.091, icp1_t:0.125, icpk_t:0.275\n",
    "# scene:2, image: 901, rcnn:0.065, image_cost:2.260, raw_t:0.091, icp1_t:0.124, icpk_t:0.275\n",
    "# scene:2, image: 1001, rcnn:0.065, image_cost:2.270, raw_t:0.091, icp1_t:0.125, icpk_t:0.276\n",
    "# scene:2, image: 1101, rcnn:0.065, image_cost:2.264, raw_t:0.091, icp1_t:0.124, icpk_t:0.275\n",
    "# scene:2, image: 1201, rcnn:0.065, image_cost:2.265, raw_t:0.091, icp1_t:0.124, icpk_t:0.275\n",
    "# raw_mean_runtime: 0.0909,\n",
    "# icp1_mean_runtime: 0.1243,\n",
    "# icpk_mean_runtime: 0.2756,"
   ]
  },
  {
   "cell_type": "code",
   "execution_count": 9,
   "id": "cooperative-bloom",
   "metadata": {},
   "outputs": [
    {
     "name": "stdout",
     "output_type": "stream",
     "text": [
      "LMO_Hemi_rcnn0.001_knn50_RAW5_RAD10: ADD:0.41975, ADI:0.80488, ADD(-S):0.56125\n",
      "LMO_Hemi_rcnn0.001_knn50_ICP1_RAD10: ADD:0.58125, ADI:0.82925, ADD(-S):0.70263\n",
      "LMO_Hemi_rcnn0.001_knn50_ICPK_RAD10: ADD:0.61325, ADI:0.83475, ADD(-S):0.72788\n"
     ]
    }
   ],
   "source": [
    "raw_add = \"1: 0.484, 5: 0.595, 6: 0.405, 8: 0.278, 9: 0.529, 10: 0.129, 11: 0.146, 12: 0.792\"\n",
    "raw_adi = \"1: 0.837, 5: 0.921, 6: 0.681, 8: 0.755, 9: 0.883, 10: 0.691, 11: 0.716, 12: 0.955\"\n",
    "# LMO_Hemi_rcnn0.001_knn50_RAW5_RAD10: ADD:0.41975, ADI:0.80488, ADD(-S):0.56125\n",
    "\n",
    "icp1_add = \"1: 0.674, 5: 0.717, 6: 0.552, 8: 0.645, 9: 0.683, 10: 0.208, 11: 0.278, 12: 0.893\"\n",
    "icp1_adi = \"1: 0.856, 5: 0.949, 6: 0.711, 8: 0.803, 9: 0.903, 10: 0.702, 11: 0.755, 12: 0.955\"\n",
    "# LMO_Hemi_rcnn0.001_knn50_ICP1_RAD10: ADD:0.58125, ADI:0.82925, ADD(-S):0.70263\n",
    "\n",
    "icpk_add = \"1: 0.676, 5: 0.813, 6: 0.578, 8: 0.691, 9: 0.699, 10: 0.163, 11: 0.377, 12: 0.909\"\n",
    "icpk_adi = \"1: 0.862, 5: 0.953, 6: 0.716, 8: 0.820, 9: 0.915, 10: 0.710, 11: 0.747, 12: 0.955\"\n",
    "# LMO_Hemi_rcnn0.001_knn50_ICPK_RAD10: ADD:0.61213, ADI:0.83475, ADD(-S):0.72675\n",
    "\n",
    "printAD(add=raw_add, adi=raw_adi, name=\"LMO_Hemi_rcnn0.001_knn50_RAW5_RAD10\")\n",
    "printAD(add=icp1_add, adi=icp1_adi, name=\"LMO_Hemi_rcnn0.001_knn50_ICP1_RAD10\")\n",
    "printAD(add=icpk_add, adi=icpk_adi, name=\"LMO_Hemi_rcnn0.001_knn50_ICPK_RAD10\")\n"
   ]
  },
  {
   "cell_type": "markdown",
   "id": "offensive-strength",
   "metadata": {},
   "source": [
    "# LM ADD-S"
   ]
  },
  {
   "cell_type": "code",
   "execution_count": null,
   "id": "authentic-gnome",
   "metadata": {},
   "outputs": [],
   "source": [
    "# raw_mean_runtime: 0.0850,\n",
    "# icp1_mean_runtime: 0.1191, \n",
    "# icpk_mean_runtime: 0.2733, "
   ]
  },
  {
   "cell_type": "code",
   "execution_count": 8,
   "id": "congressional-calibration",
   "metadata": {},
   "outputs": [
    {
     "name": "stdout",
     "output_type": "stream",
     "text": [
      "LM_Hemi_rcnn0.001_knn50_RAW5: ADD:0.70260, ADI:0.82353, ADD(-S):0.86054\n",
      "LM_Hemi_rcnn0.001_knn50_ICP1: ADD:0.74927, ADI:0.82693, ADD(-S):0.91354\n",
      "LM_Hemi_rcnn0.001_knn50_ICPK: ADD:0.77153, ADI:0.82793, ADD(-S):0.92369\n"
     ]
    }
   ],
   "source": [
    "raw_add = \"1: 0.921, 2: 0.986, 3: 0.000, 4: 0.604, 5: 0.924, 6: 0.899, 7: 0.000, 8: 0.775, 9: 0.800, 10: 0.661, 11: 0.559, 12: 0.834, 13: 0.954, 14: 0.794, 15: 0.828\"\n",
    "raw_adi = \"1: 0.982, 2: 1.000, 3: 0.000, 4: 0.894, 5: 0.997, 6: 0.986, 7: 0.000, 8: 0.983, 9: 0.979, 10: 0.936, 11: 0.932, 12: 0.873, 13: 0.982, 14: 0.895, 15: 0.914\"\n",
    "\n",
    "icp1_add = \"1: 0.950, 2: 0.997, 3: 0.000, 4: 0.713, 5: 0.933, 6: 0.970, 7: 0.000, 8: 0.934, 9: 0.931, 10: 0.662, 11: 0.580, 12: 0.852, 13: 0.970, 14: 0.862, 15: 0.885\"\n",
    "icp1_adi = \"1: 0.984, 2: 1.000, 3: 0.000, 4: 0.906, 5: 0.997, 6: 0.996, 7: 0.000, 8: 0.983, 9: 0.991, 10: 0.936, 11: 0.943, 12: 0.874, 13: 0.982, 14: 0.890, 15: 0.922\"\n",
    "\n",
    "icpk_add = \"1: 0.953, 2: 0.997, 3: 0.000, 4: 0.742, 5: 0.965, 6: 0.977, 7: 0.000, 8: 0.945, 9: 0.951, 10: 0.760, 11: 0.680, 12: 0.860, 13: 0.977, 14: 0.869, 15: 0.897\"\n",
    "icpk_adi = \"1: 0.987, 2: 1.000, 3: 0.000, 4: 0.910, 5: 0.997, 6: 0.996, 7: 0.000, 8: 0.986, 9: 0.992, 10: 0.936, 11: 0.939, 12: 0.874, 13: 0.982, 14: 0.895, 15: 0.925\"\n",
    "\n",
    "printAD(add=raw_add, adi=raw_adi, name=\"LM_Hemi_rcnn0.001_knn50_RAW5\")\n",
    "printAD(add=icp1_add, adi=icp1_adi, name=\"LM_Hemi_rcnn0.001_knn50_ICP1\")\n",
    "printAD(add=icpk_add, adi=icpk_adi, name=\"LM_Hemi_rcnn0.001_knn50_ICPK\")\n"
   ]
  },
  {
   "cell_type": "code",
   "execution_count": null,
   "id": "finite-collapse",
   "metadata": {},
   "outputs": [],
   "source": []
  },
  {
   "cell_type": "code",
   "execution_count": null,
   "id": "antique-nomination",
   "metadata": {},
   "outputs": [],
   "source": []
  },
  {
   "cell_type": "code",
   "execution_count": null,
   "id": "irish-basis",
   "metadata": {},
   "outputs": [],
   "source": []
  }
 ],
 "metadata": {
  "kernelspec": {
   "display_name": "Python 3",
   "language": "python",
   "name": "python3"
  },
  "language_info": {
   "codemirror_mode": {
    "name": "ipython",
    "version": 3
   },
   "file_extension": ".py",
   "mimetype": "text/x-python",
   "name": "python",
   "nbconvert_exporter": "python",
   "pygments_lexer": "ipython3",
   "version": "3.8.8"
  }
 },
 "nbformat": 4,
 "nbformat_minor": 5
}
